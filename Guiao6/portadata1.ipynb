{
 "cells": [
  {
   "attachments": {},
   "cell_type": "markdown",
   "metadata": {},
   "source": [
    "#  - Proveitos de Turismo em Portugal \n"
   ]
  },
  {
   "attachments": {},
   "cell_type": "markdown",
   "metadata": {},
   "source": [
    "Considerando a informação relativa aos proveitos de alojamentos turísticos em Portugal de 2009 a \n",
    "2020 disponibilizada pela PORDATA (Folha “Quadro” do ficheiro pordata1.xls4\n",
    "), responda às \n",
    "seguintes questões usando as funcionalidades da biblioteca Pandas: \n"
   ]
  },
  {
   "cell_type": "code",
   "execution_count": 94,
   "metadata": {},
   "outputs": [],
   "source": [
    "import pandas as pd\n",
    "import numpy as np\n",
    "filename = 'pordata1.xls'\n"
   ]
  },
  {
   "attachments": {},
   "cell_type": "markdown",
   "metadata": {},
   "source": [
    "1. Leia os dados do ficheiro para um objeto DataFrame com o nome pordata, descartando a \n",
    "primeira linha e fazendo com que o indíce seja a Região. "
   ]
  },
  {
   "cell_type": "code",
   "execution_count": 100,
   "metadata": {},
   "outputs": [
    {
     "name": "stdout",
     "output_type": "stream",
     "text": [
      "                    Âmbito Geográfico  TOTAL_2009  TOTAL_2010  TOTAL_2011  \\\n",
      "Região                                                                      \n",
      "Portugal                    NUTS 2013     1763954     1807536     1906006   \n",
      "Continente                     NUTS I     1458939     1531894     1606363   \n",
      "Norte                         NUTS II      207591      218295      223803   \n",
      "Alto Minho                   NUTS III           0           0           0   \n",
      "Arcos de Valdevez           Município         867         737         799   \n",
      "...                               ...         ...         ...         ...   \n",
      "Santa Cruz                  Município       36449       31988       32627   \n",
      "Santana                     Município        1789         723        1296   \n",
      "São Vicente                 Município        2971        2901        3420   \n",
      "Ilha de Porto Santo          NUTS III       12670       11629       13854   \n",
      "Porto Santo                 Município       12670       11629       13854   \n",
      "\n",
      "                     TOTAL_2012  TOTAL_2013  TOTAL_2014  TOTAL_2015  \\\n",
      "Região                                                                \n",
      "Portugal                1856450     1954569     2285896     2627741   \n",
      "Continente              1564439     1637632     1940146     2240348   \n",
      "Norte                    212894      223778      271117      329973   \n",
      "Alto Minho                    0       14370       16878       21263   \n",
      "Arcos de Valdevez           778         795         856        1266   \n",
      "...                         ...         ...         ...         ...   \n",
      "Santa Cruz                30747       33735       37049       39990   \n",
      "Santana                    1944           0        2448        2768   \n",
      "São Vicente                3510        3498        3428        3582   \n",
      "Ilha de Porto Santo       13023       14385       17089       20953   \n",
      "Porto Santo               13023       14385       17089       20953   \n",
      "\n",
      "                     TOTAL_2016  TOTAL_2017  ...  HOTEIS_2011  HOTEIS_2012  \\\n",
      "Região                                       ...                             \n",
      "Portugal                3103755     3681207  ...      1355749      1326956   \n",
      "Continente              2643565     3170774  ...      1161808      1133990   \n",
      "Norte                    403945      489312  ...       179434       179091   \n",
      "Alto Minho                25328       32230  ...            0            0   \n",
      "Arcos de Valdevez          2665        2937  ...          316          330   \n",
      "...                         ...         ...  ...          ...          ...   \n",
      "Santa Cruz                47321       51984  ...        22565        21052   \n",
      "Santana                    3391        3824  ...            0            0   \n",
      "São Vicente                4260        4790  ...            0            0   \n",
      "Ilha de Porto Santo       26006       27711  ...        12751        12185   \n",
      "Porto Santo               26006       27711  ...        12751        12185   \n",
      "\n",
      "                     HOTEIS_2013  HOTEIS_2014  HOTEIS_2015  HOTEIS_2016  \\\n",
      "Região                                                                    \n",
      "Portugal                 1413949      1608917      1848945      2190726   \n",
      "Continente               1198653      1374919      1583140      1869197   \n",
      "Norte                     191548       218092       262914       323747   \n",
      "Alto Minho                     0        11448        14071        17120   \n",
      "Arcos de Valdevez              0            0            0         1797   \n",
      "...                          ...          ...          ...          ...   \n",
      "Santa Cruz                 23132        24585        26682        30742   \n",
      "Santana                     1913            0            0            0   \n",
      "São Vicente                    0            0            0            0   \n",
      "Ilha de Porto Santo        13427        16117        17337        21280   \n",
      "Porto Santo                13427        16117        17337        21280   \n",
      "\n",
      "                     HOTEIS_2017  HOTEIS_2018  HOTEIS_2019  HOTEIS_2020  \n",
      "Região                                                                   \n",
      "Portugal                 2606951      2792152      2976234       936046  \n",
      "Continente               2243431      2417840      2601650       820906  \n",
      "Norte                     388862       443200       497346       173223  \n",
      "Alto Minho                 21371        26262        28574        16625  \n",
      "Arcos de Valdevez           1731         2290         2472         1760  \n",
      "...                          ...          ...          ...          ...  \n",
      "Santa Cruz                 34543        34082        30692        11212  \n",
      "Santana                        0            0            0            0  \n",
      "São Vicente                    0            0            0            0  \n",
      "Ilha de Porto Santo        22843        23140        21146         6551  \n",
      "Porto Santo                22843        23140        21146         6551  \n",
      "\n",
      "[353 rows x 25 columns]\n"
     ]
    }
   ],
   "source": [
    "pordata = pd.read_excel(io=filename,sheet_name='Quadro',index_col='Região', skiprows=[0])\n",
    "print(pordata)"
   ]
  },
  {
   "attachments": {},
   "cell_type": "markdown",
   "metadata": {},
   "source": [
    "Determine o número de colunas, número de linhas e memória ocupada pela DataFrame sem \n",
    "otimizações (em kB). \n"
   ]
  },
  {
   "cell_type": "code",
   "execution_count": 10,
   "metadata": {},
   "outputs": [
    {
     "name": "stdout",
     "output_type": "stream",
     "text": [
      "(353, 25)\n",
      "124814 bytes\n"
     ]
    }
   ],
   "source": [
    "# numero de linhas e colunas\n",
    "shape = pordata.shape\n",
    "print(shape)\n",
    "memoriaSemOti = pordata.memory_usage(deep=True).sum()\n",
    "print(memoriaSemOti,'bytes')"
   ]
  },
  {
   "attachments": {},
   "cell_type": "markdown",
   "metadata": {},
   "source": [
    "Crie uma nova DataFrame com apenas a informação relativa às NUTS II e total de proveitos \n",
    "para os vários anos. Guarde-a num ficheiro CSV. "
   ]
  },
  {
   "cell_type": "code",
   "execution_count": 13,
   "metadata": {},
   "outputs": [
    {
     "name": "stdout",
     "output_type": "stream",
     "text": [
      "                              TOTAL_2009  TOTAL_2010  TOTAL_2011  TOTAL_2012  \\\n",
      "Região                                                                         \n",
      "Norte                             207591      218295      223803      212894   \n",
      "Centro                            179091      187689      187233      167298   \n",
      "Área Metropolitana de Lisboa           0           0           0           0   \n",
      "Alentejo                           57588       59457       64082       57197   \n",
      "Algarve                           521848      541143      569204      585731   \n",
      "Região Autónoma dos Açores         49163       48905       46852       41985   \n",
      "Região Autónoma da Madeira        255852      226738      252791      250026   \n",
      "\n",
      "                              TOTAL_2013  TOTAL_2014  TOTAL_2015  TOTAL_2016  \\\n",
      "Região                                                                         \n",
      "Norte                             223778      271117      329973      403945   \n",
      "Centro                            161280      189026      222524      256514   \n",
      "Área Metropolitana de Lisboa      587268      699432      813055      931173   \n",
      "Alentejo                           55318       78645       94730      110895   \n",
      "Algarve                           609988      701927      780067      941039   \n",
      "Região Autónoma dos Açores         44672       46773       56491       73140   \n",
      "Região Autónoma da Madeira        272265      298977      330901      387050   \n",
      "\n",
      "                              TOTAL_2017  TOTAL_2018  TOTAL_2019  TOTAL_2020  \n",
      "Região                                                                        \n",
      "Norte                             489312      560283      642935      231355  \n",
      "Centro                            316308      332790      355414      164200  \n",
      "Área Metropolitana de Lisboa     1151787     1267349     1372192      315729  \n",
      "Alentejo                          135134      149831      174956      112842  \n",
      "Algarve                          1078233     1144530     1225746      461563  \n",
      "Região Autónoma dos Açores         90763      105019      117115       30046  \n",
      "Região Autónoma da Madeira        419670      426751      407457      129947  \n"
     ]
    }
   ],
   "source": [
    "pordata2 = pordata[pordata['Âmbito Geográfico'] =='NUTS II'].loc[:,'TOTAL_2009':'TOTAL_2020']\n",
    "pordata2.to_csv('outPordata2.csv')\n",
    "print(pordata2)"
   ]
  },
  {
   "attachments": {},
   "cell_type": "markdown",
   "metadata": {},
   "source": [
    "Qual o valor total e valor médio do total de proveitos em 2009 e 2020 nas regiões NUTS II? \n"
   ]
  },
  {
   "cell_type": "code",
   "execution_count": 19,
   "metadata": {},
   "outputs": [
    {
     "name": "stdout",
     "output_type": "stream",
     "text": [
      "1271133\n",
      "1445682\n",
      "181590.42857142858\n",
      "206526.0\n"
     ]
    }
   ],
   "source": [
    "# valor total 2009 e 2020\n",
    "total_2009 = pordata2['TOTAL_2009'].sum()\n",
    "print(total_2009)\n",
    "total_2020 = pordata2['TOTAL_2020'].sum()\n",
    "print(total_2020)\n",
    "# media 2009 e 2020\n",
    "mean_2009 = pordata2['TOTAL_2009'].mean()\n",
    "print(mean_2009)\n",
    "mean_2020 = pordata2['TOTAL_2020'].mean()\n",
    "print(mean_2020)\n"
   ]
  },
  {
   "attachments": {},
   "cell_type": "markdown",
   "metadata": {},
   "source": [
    "Obtenha as estatísticas principais para as regiões NUTS II em 2020 para o total e apenas \n",
    "considerando os hotéis. "
   ]
  },
  {
   "cell_type": "code",
   "execution_count": 53,
   "metadata": {},
   "outputs": [
    {
     "name": "stdout",
     "output_type": "stream",
     "text": [
      "                              HOTEIS_2020\n",
      "Região                                   \n",
      "Norte                              173223\n",
      "Centro                             111347\n",
      "Área Metropolitana de Lisboa       246309\n",
      "Alentejo                            44036\n",
      "Algarve                            245991\n",
      "Região Autónoma dos Açores          23171\n",
      "Região Autónoma da Madeira          91970 \n",
      " 246309 \n",
      " Área Metropolitana de Lisboa \n",
      " 23171 \n",
      " Região Autónoma dos Açores\n"
     ]
    }
   ],
   "source": [
    "pordata3 = pd.DataFrame(pordata[pordata['Âmbito Geográfico'] =='NUTS II'].loc[:,'HOTEIS_2020'])\n",
    "# maximo e minimo e suas regioes respectivas\n",
    "min_value =pordata3.min().to_list()[0]\n",
    "min_region = pordata3[pordata3['HOTEIS_2020'] == min_value].index[0]\n",
    "\n",
    "max_value =pordata3.max().to_list()[0]\n",
    "max_region = pordata3[pordata3['HOTEIS_2020'] == max_value].index[0]\n",
    "print(pordata3,'\\n',max_value,'\\n',max_region,'\\n',min_value,'\\n',min_region)\n",
    "# media, mediana \n",
    "mean_hoteis_2020 = pordata3.mean()\n",
    "median_heoteis_2020 = pordata3.median()\n",
    "# desvio padrao, \n",
    "std_hoteis_2020 = pordata3.std()\n",
    "\n",
    "\n",
    "\n",
    "\n",
    "\n",
    "\n"
   ]
  },
  {
   "attachments": {},
   "cell_type": "markdown",
   "metadata": {},
   "source": [
    "Obtenha o valor médio, máximo, mínimo e soma para os municípios de Aveiro, Porto, \n",
    "Albufeira e Funchal para os proveitos dos hoteis entre 2009 e 2020. Apresente os resultados \n",
    "ordenados por ordem crescente do valor médio, uma cidade por linha. "
   ]
  },
  {
   "cell_type": "code",
   "execution_count": 86,
   "metadata": {},
   "outputs": [
    {
     "name": "stdout",
     "output_type": "stream",
     "text": [
      "           HOTEIS_2009  HOTEIS_2010  HOTEIS_2011  HOTEIS_2012  HOTEIS_2013  \\\n",
      "Região                                                                       \n",
      "Aveiro            8477         8666         8105         7414         7716   \n",
      "Porto            64984        71409        72566        75097        82807   \n",
      "Albufeira        91306        91810        97637       105462       100615   \n",
      "Funchal         105183        94485       105858       110344       123572   \n",
      "\n",
      "           HOTEIS_2014  HOTEIS_2015  HOTEIS_2016  HOTEIS_2017  HOTEIS_2018  \\\n",
      "Região                                                                       \n",
      "Aveiro            8536         9709         9801        11300        12693   \n",
      "Porto            95683       119899       149667       184153       208668   \n",
      "Albufeira       126998       131375       179691       213185       213604   \n",
      "Funchal         135150       150410       173239       190807       197859   \n",
      "\n",
      "           HOTEIS_2019  HOTEIS_2020    MAximo          Media   Minimo  \\\n",
      "Região                                                                  \n",
      "Aveiro           13454            0   13454.0    8822.583333      0.0   \n",
      "Porto           235732        51852  235732.0  117709.750000  51852.0   \n",
      "Albufeira       233541        83065  233541.0  139024.083333  83065.0   \n",
      "Funchal         193561        62616  197859.0  136923.666667  62616.0   \n",
      "\n",
      "                Soma  \n",
      "Região                \n",
      "Aveiro      105871.0  \n",
      "Porto      1412517.0  \n",
      "Albufeira  1668289.0  \n",
      "Funchal    1643084.0  \n"
     ]
    }
   ],
   "source": [
    "pordata4 = pordata.loc[['Aveiro','Porto','Albufeira','Funchal'],'HOTEIS_2009':]\n",
    "map = {}\n",
    "for city in pordata4.index:\n",
    "    if city not in map:\n",
    "        map[city] = [pordata4.loc[city].mean(),pordata4.loc[city].max(),pordata4.loc[city].min(),pordata4.loc[city].sum()]\n",
    "\n",
    "df1 = pd.DataFrame(data=map,index=['Media','MAximo','Minimo','Soma']).transpose()\n",
    "\n",
    "pordata5 = pordata4.combine_first(df1)\n",
    "\n",
    "print(pordata5)"
   ]
  },
  {
   "attachments": {},
   "cell_type": "markdown",
   "metadata": {},
   "source": [
    "(opcional) Utilize a conversão de tipos de dados para diminuir a memória ocupada. Quantos \n",
    "kBytes conseguiu poupar?"
   ]
  },
  {
   "cell_type": "code",
   "execution_count": 107,
   "metadata": {},
   "outputs": [
    {
     "name": "stdout",
     "output_type": "stream",
     "text": [
      "Âmbito Geográfico    object\n",
      "TOTAL_2009            int64\n",
      "TOTAL_2010            int64\n",
      "TOTAL_2011            int64\n",
      "TOTAL_2012            int64\n",
      "TOTAL_2013            int64\n",
      "TOTAL_2014            int64\n",
      "TOTAL_2015            int64\n",
      "TOTAL_2016            int64\n",
      "TOTAL_2017            int64\n",
      "TOTAL_2018            int64\n",
      "TOTAL_2019            int64\n",
      "TOTAL_2020            int64\n",
      "HOTEIS_2009           int64\n",
      "HOTEIS_2010           int64\n",
      "HOTEIS_2011           int64\n",
      "HOTEIS_2012           int64\n",
      "HOTEIS_2013           int64\n",
      "HOTEIS_2014           int64\n",
      "HOTEIS_2015           int64\n",
      "HOTEIS_2016           int64\n",
      "HOTEIS_2017           int64\n",
      "HOTEIS_2018           int64\n",
      "HOTEIS_2019           int64\n",
      "HOTEIS_2020           int64\n",
      "dtype: object\n",
      "--------------------\n",
      "Âmbito Geográfico    object\n",
      "TOTAL_2009            int32\n",
      "TOTAL_2010            int32\n",
      "TOTAL_2011            int32\n",
      "TOTAL_2012            int32\n",
      "TOTAL_2013            int32\n",
      "TOTAL_2014            int32\n",
      "TOTAL_2015            int32\n",
      "TOTAL_2016            int32\n",
      "TOTAL_2017            int32\n",
      "TOTAL_2018            int32\n",
      "TOTAL_2019            int32\n",
      "TOTAL_2020            int32\n",
      "HOTEIS_2009           int32\n",
      "HOTEIS_2010           int32\n",
      "HOTEIS_2011           int32\n",
      "HOTEIS_2012           int32\n",
      "HOTEIS_2013           int32\n",
      "HOTEIS_2014           int32\n",
      "HOTEIS_2015           int32\n",
      "HOTEIS_2016           int32\n",
      "HOTEIS_2017           int32\n",
      "HOTEIS_2018           int32\n",
      "HOTEIS_2019           int32\n",
      "HOTEIS_2020           int32\n",
      "dtype: object 39536 bytes\n",
      "                    Âmbito Geográfico  TOTAL_2009  TOTAL_2010  TOTAL_2011  \\\n",
      "Região                                                                      \n",
      "Portugal                    NUTS 2013     1763954     1807536     1906006   \n",
      "Continente                     NUTS I     1458939     1531894     1606363   \n",
      "Norte                         NUTS II      207591      218295      223803   \n",
      "Alto Minho                   NUTS III           0           0           0   \n",
      "Arcos de Valdevez           Município         867         737         799   \n",
      "...                               ...         ...         ...         ...   \n",
      "Santa Cruz                  Município       36449       31988       32627   \n",
      "Santana                     Município        1789         723        1296   \n",
      "São Vicente                 Município        2971        2901        3420   \n",
      "Ilha de Porto Santo          NUTS III       12670       11629       13854   \n",
      "Porto Santo                 Município       12670       11629       13854   \n",
      "\n",
      "                     TOTAL_2012  TOTAL_2013  TOTAL_2014  TOTAL_2015  \\\n",
      "Região                                                                \n",
      "Portugal                1856450     1954569     2285896     2627741   \n",
      "Continente              1564439     1637632     1940146     2240348   \n",
      "Norte                    212894      223778      271117      329973   \n",
      "Alto Minho                    0       14370       16878       21263   \n",
      "Arcos de Valdevez           778         795         856        1266   \n",
      "...                         ...         ...         ...         ...   \n",
      "Santa Cruz                30747       33735       37049       39990   \n",
      "Santana                    1944           0        2448        2768   \n",
      "São Vicente                3510        3498        3428        3582   \n",
      "Ilha de Porto Santo       13023       14385       17089       20953   \n",
      "Porto Santo               13023       14385       17089       20953   \n",
      "\n",
      "                     TOTAL_2016  TOTAL_2017  ...  HOTEIS_2011  HOTEIS_2012  \\\n",
      "Região                                       ...                             \n",
      "Portugal                3103755     3681207  ...      1355749      1326956   \n",
      "Continente              2643565     3170774  ...      1161808      1133990   \n",
      "Norte                    403945      489312  ...       179434       179091   \n",
      "Alto Minho                25328       32230  ...            0            0   \n",
      "Arcos de Valdevez          2665        2937  ...          316          330   \n",
      "...                         ...         ...  ...          ...          ...   \n",
      "Santa Cruz                47321       51984  ...        22565        21052   \n",
      "Santana                    3391        3824  ...            0            0   \n",
      "São Vicente                4260        4790  ...            0            0   \n",
      "Ilha de Porto Santo       26006       27711  ...        12751        12185   \n",
      "Porto Santo               26006       27711  ...        12751        12185   \n",
      "\n",
      "                     HOTEIS_2013  HOTEIS_2014  HOTEIS_2015  HOTEIS_2016  \\\n",
      "Região                                                                    \n",
      "Portugal                 1413949      1608917      1848945      2190726   \n",
      "Continente               1198653      1374919      1583140      1869197   \n",
      "Norte                     191548       218092       262914       323747   \n",
      "Alto Minho                     0        11448        14071        17120   \n",
      "Arcos de Valdevez              0            0            0         1797   \n",
      "...                          ...          ...          ...          ...   \n",
      "Santa Cruz                 23132        24585        26682        30742   \n",
      "Santana                     1913            0            0            0   \n",
      "São Vicente                    0            0            0            0   \n",
      "Ilha de Porto Santo        13427        16117        17337        21280   \n",
      "Porto Santo                13427        16117        17337        21280   \n",
      "\n",
      "                     HOTEIS_2017  HOTEIS_2018  HOTEIS_2019  HOTEIS_2020  \n",
      "Região                                                                   \n",
      "Portugal                 2606951      2792152      2976234       936046  \n",
      "Continente               2243431      2417840      2601650       820906  \n",
      "Norte                     388862       443200       497346       173223  \n",
      "Alto Minho                 21371        26262        28574        16625  \n",
      "Arcos de Valdevez           1731         2290         2472         1760  \n",
      "...                          ...          ...          ...          ...  \n",
      "Santa Cruz                 34543        34082        30692        11212  \n",
      "Santana                        0            0            0            0  \n",
      "São Vicente                    0            0            0            0  \n",
      "Ilha de Porto Santo        22843        23140        21146         6551  \n",
      "Porto Santo                22843        23140        21146         6551  \n",
      "\n",
      "[353 rows x 25 columns]\n"
     ]
    }
   ],
   "source": [
    "# verificar os tipos \n",
    "pordata6 = pordata\n",
    "print(pordata6.dtypes)\n",
    "d = dict.fromkeys(pordata.select_dtypes(np.int64).columns, np.int32)\n",
    "pordata6 = pordata6.astype(d)\n",
    "print('--------------------')\n",
    "print(pordata6.dtypes,pordata6.memory_usage().sum(),'bytes')\n",
    "print(pordata6) # verificar se perdeu informações, o que nao é o caso pois 32 bis suporta -2bi ate 2bi aprox"
   ]
  }
 ],
 "metadata": {
  "kernelspec": {
   "display_name": "Python 3",
   "language": "python",
   "name": "python3"
  },
  "language_info": {
   "codemirror_mode": {
    "name": "ipython",
    "version": 3
   },
   "file_extension": ".py",
   "mimetype": "text/x-python",
   "name": "python",
   "nbconvert_exporter": "python",
   "pygments_lexer": "ipython3",
   "version": "3.11.2"
  },
  "orig_nbformat": 4
 },
 "nbformat": 4,
 "nbformat_minor": 2
}
