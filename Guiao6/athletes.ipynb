{
 "cells": [
  {
   "attachments": {},
   "cell_type": "markdown",
   "metadata": {},
   "source": [
    "# Athletes\n",
    "\n"
   ]
  },
  {
   "attachments": {},
   "cell_type": "markdown",
   "metadata": {},
   "source": [
    "importing llibraries"
   ]
  },
  {
   "cell_type": "code",
   "execution_count": 1,
   "metadata": {},
   "outputs": [],
   "source": [
    "import pandas as pd\n",
    "fileName = 'Athletes.csv'\n"
   ]
  },
  {
   "attachments": {},
   "cell_type": "markdown",
   "metadata": {},
   "source": [
    "importing data from athletes.csv"
   ]
  },
  {
   "cell_type": "code",
   "execution_count": 129,
   "metadata": {},
   "outputs": [],
   "source": [
    "df = pd.read_csv(fileName)\n"
   ]
  },
  {
   "attachments": {},
   "cell_type": "markdown",
   "metadata": {},
   "source": [
    "Quantas colunas tem o ficheiro? Qual a primeira? E a última?"
   ]
  },
  {
   "cell_type": "code",
   "execution_count": 150,
   "metadata": {},
   "outputs": [
    {
     "name": "stdout",
     "output_type": "stream",
     "text": [
      "16 Numero de colunas\n",
      "primeira coluna -  Rank |\t| ultima coluna -  Description\n"
     ]
    }
   ],
   "source": [
    "print(df.shape[1],'Numero de colunas') # numero de colunas \n",
    "colunas = df.columns\n",
    "print('primeira coluna - ',colunas[0],'|\\t|','ultima coluna - ', colunas[-1])"
   ]
  },
  {
   "attachments": {},
   "cell_type": "markdown",
   "metadata": {},
   "source": [
    "Quantas linhas tem o ficheiro? \n"
   ]
  },
  {
   "cell_type": "code",
   "execution_count": 151,
   "metadata": {},
   "outputs": [
    {
     "name": "stdout",
     "output_type": "stream",
     "text": [
      "100 linhas\n"
     ]
    }
   ],
   "source": [
    "print(df.shape[0], 'linhas')"
   ]
  },
  {
   "attachments": {},
   "cell_type": "markdown",
   "metadata": {},
   "source": [
    "Obtenha um ficheiro de dados em formato Excel com apenas as primeiras 10 colunas. Na \n",
    "resposta às questões seguintes considere apenas essas 10 colunas. "
   ]
  },
  {
   "cell_type": "code",
   "execution_count": 152,
   "metadata": {},
   "outputs": [],
   "source": [
    "df1= df.iloc[:,:11]\n",
    "fileNameOutput = 'outputAthletes.xlsx'\n",
    "df1.to_excel(fileNameOutput)"
   ]
  },
  {
   "attachments": {},
   "cell_type": "markdown",
   "metadata": {},
   "source": [
    "Faça com que o indíce seja o nome e mostre informação dos primeiros cinco atletas. "
   ]
  },
  {
   "cell_type": "code",
   "execution_count": 162,
   "metadata": {},
   "outputs": [
    {
     "name": "stdout",
     "output_type": "stream",
     "text": [
      "                 Unnamed: 0  Rank     Sport    Total Pay Salary/Winnings  \\\n",
      "Name                                                                       \n",
      "Aaron Rodgers             0    55  Football  $22,000,000     $14,500,000   \n",
      "Adam Scott                1    95      Golf  $17,700,000      $8,700,000   \n",
      "Adrian Gonzalez           2    60  Baseball  $21,500,000     $21,100,000   \n",
      "Alex Rodriguez            3    48  Baseball  $22,900,000     $22,600,000   \n",
      "Alfonso Soriano           4    93  Baseball  $18,050,000     $18,000,000   \n",
      "\n",
      "                Endorsements              Nation Gender  Year of birth  \\\n",
      "Name                                                                     \n",
      "Aaron Rodgers     $7,500,000       United States   Male           1983   \n",
      "Adam Scott        $9,000,000           Australia   Male           1980   \n",
      "Adrian Gonzalez     $400,000       United States   Male           1982   \n",
      "Alex Rodriguez      $300,000       United States   Male           1975   \n",
      "Alfonso Soriano      $50,000  Dominican Republic   Male           1976   \n",
      "\n",
      "                Birth Date                            Place of Birth  \n",
      "Name                                                                  \n",
      "Aaron Rodgers   1983-02-12          Chico, California, United States  \n",
      "Adam Scott      1980-07-16                       Adelaide, Australia  \n",
      "Adrian Gonzalez 1982-08-05      San Diego, California, United States  \n",
      "Alex Rodriguez  1975-07-27                             New York City  \n",
      "Alfonso Soriano 1976-07-01  San Pedro de Macorís, Dominican Republic  \n"
     ]
    },
    {
     "name": "stderr",
     "output_type": "stream",
     "text": [
      "C:\\Users\\moham\\AppData\\Local\\Temp\\ipykernel_21336\\1244875121.py:1: UserWarning: Parsing dates in DD/MM/YYYY format when dayfirst=False (the default) was specified. This may lead to inconsistently parsed dates! Specify a format to ensure consistent parsing.\n",
      "  df2 = pd.read_excel(io=fileNameOutput,index_col='Name',parse_dates=['Birth Date'])\n"
     ]
    }
   ],
   "source": [
    "df2 = pd.read_excel(io=fileNameOutput,index_col='Name',parse_dates=['Birth Date'])\n",
    "print(df2.iloc[:5])"
   ]
  },
  {
   "cell_type": "markdown",
   "metadata": {},
   "source": [
    "Altere o tipo da coluna \"Sport\" para o tipo mais adequado. Repita o processo para todas as \n",
    "colunas em situação similar. "
   ]
  },
  {
   "cell_type": "code",
   "execution_count": 163,
   "metadata": {},
   "outputs": [
    {
     "name": "stdout",
     "output_type": "stream",
     "text": [
      "Unnamed: 0                  int64\n",
      "Rank                        int64\n",
      "Sport                      object\n",
      "Total Pay                  object\n",
      "Salary/Winnings            object\n",
      "Endorsements               object\n",
      "Nation                     object\n",
      "Gender                     object\n",
      "Year of birth               int64\n",
      "Birth Date         datetime64[ns]\n",
      "Place of Birth             object\n",
      "dtype: object\n",
      "Unnamed: 0                  int64\n",
      "Rank                        int64\n",
      "Sport                      object\n",
      "Total Pay                 float64\n",
      "Salary/Winnings           float64\n",
      "Endorsements              float64\n",
      "Nation                     object\n",
      "Gender                     object\n",
      "Year of birth               int64\n",
      "Birth Date         datetime64[ns]\n",
      "Place of Birth             object\n",
      "dtype: object\n"
     ]
    },
    {
     "name": "stderr",
     "output_type": "stream",
     "text": [
      "C:\\Users\\moham\\AppData\\Local\\Temp\\ipykernel_21336\\227375020.py:5: FutureWarning: The default value of regex will change from True to False in a future version. In addition, single character regular expressions will *not* be treated as literal strings when regex=True.\n",
      "  .str.replace('$','')\n",
      "C:\\Users\\moham\\AppData\\Local\\Temp\\ipykernel_21336\\227375020.py:10: FutureWarning: The default value of regex will change from True to False in a future version. In addition, single character regular expressions will *not* be treated as literal strings when regex=True.\n",
      "  .str.replace('$','')\n",
      "C:\\Users\\moham\\AppData\\Local\\Temp\\ipykernel_21336\\227375020.py:15: FutureWarning: The default value of regex will change from True to False in a future version. In addition, single character regular expressions will *not* be treated as literal strings when regex=True.\n",
      "  .str.replace('$','')\n"
     ]
    }
   ],
   "source": [
    "print(df2.dtypes)\n",
    "convert = {'Total Pay': float}\n",
    "df2['Total Pay'] = (df2[\"Total Pay\"]\n",
    ".str.replace(',' ,'')\n",
    ".str.replace('$','')\n",
    ".astype(float)\n",
    ")\n",
    "df2['Salary/Winnings'] = (df2[\"Salary/Winnings\"]\n",
    ".str.replace(',' ,'')\n",
    ".str.replace('$','')\n",
    ".astype(float)\n",
    ")\n",
    "df2['Endorsements'] = (df2[\"Endorsements\"]\n",
    ".str.replace(',' ,'')\n",
    ".str.replace('$','')\n",
    ".astype(float)\n",
    ")\n",
    "\n",
    "print(df2.dtypes)"
   ]
  },
  {
   "attachments": {},
   "cell_type": "markdown",
   "metadata": {},
   "source": [
    "6. Altere os nomes das colunas para as traduções dos originais para Português. "
   ]
  },
  {
   "cell_type": "code",
   "execution_count": 164,
   "metadata": {},
   "outputs": [
    {
     "name": "stdout",
     "output_type": "stream",
     "text": [
      "                    indice  Classificação    Desporto  Total_pago     Salario  \\\n",
      "Name                                                                            \n",
      "Aaron Rodgers            0             55    Football  22000000.0  14500000.0   \n",
      "Adam Scott               1             95        Golf  17700000.0   8700000.0   \n",
      "Adrian Gonzalez          2             60    Baseball  21500000.0  21100000.0   \n",
      "Alex Rodriguez           3             48    Baseball  22900000.0  22600000.0   \n",
      "Alfonso Soriano          4             93    Baseball  18050000.0  18000000.0   \n",
      "...                    ...            ...         ...         ...         ...   \n",
      "Wayne Rooney            95             43      Soccer  23400000.0  18400000.0   \n",
      "Wladimir Klitschko      96             25      Boxing  28000000.0  24000000.0   \n",
      "Zach Randolph           97             84  Basketball  18800000.0  18300000.0   \n",
      "Zlatan Ibrahimović      98             12      Soccer  40400000.0  36400000.0   \n",
      "Cristiano Ronaldo       99              2      Soccer  80000000.0  52000000.0   \n",
      "\n",
      "                    Aprovações       Nacionalidade Genero  Ano_Nascimento  \\\n",
      "Name                                                                        \n",
      "Aaron Rodgers        7500000.0       United States   Male            1983   \n",
      "Adam Scott           9000000.0           Australia   Male            1980   \n",
      "Adrian Gonzalez       400000.0       United States   Male            1982   \n",
      "Alex Rodriguez        300000.0       United States   Male            1975   \n",
      "Alfonso Soriano        50000.0  Dominican Republic   Male            1976   \n",
      "...                        ...                 ...    ...             ...   \n",
      "Wayne Rooney         5000000.0             England   Male            1985   \n",
      "Wladimir Klitschko   4000000.0             Ukraine   Male            1976   \n",
      "Zach Randolph         500000.0       United States   Male            1981   \n",
      "Zlatan Ibrahimović   4000000.0              Sweden   Male            1981   \n",
      "Cristiano Ronaldo   28000000.0            Portugal   Male            1985   \n",
      "\n",
      "                   Data_Nascimento  \\\n",
      "Name                                 \n",
      "Aaron Rodgers           1983-02-12   \n",
      "Adam Scott              1980-07-16   \n",
      "Adrian Gonzalez         1982-08-05   \n",
      "Alex Rodriguez          1975-07-27   \n",
      "Alfonso Soriano         1976-07-01   \n",
      "...                            ...   \n",
      "Wayne Rooney            1985-10-24   \n",
      "Wladimir Klitschko      1976-03-25   \n",
      "Zach Randolph           1981-07-16   \n",
      "Zlatan Ibrahimović      1981-03-10   \n",
      "Cristiano Ronaldo       1985-05-02   \n",
      "\n",
      "                                                Local_Nascimento  \n",
      "Name                                                              \n",
      "Aaron Rodgers                   Chico, California, United States  \n",
      "Adam Scott                                   Adelaide, Australia  \n",
      "Adrian Gonzalez             San Diego, California, United States  \n",
      "Alex Rodriguez                                     New York City  \n",
      "Alfonso Soriano         San Pedro de Macorís, Dominican Republic  \n",
      "...                                                          ...  \n",
      "Wayne Rooney        Croxteth, Liverpool, England, United Kingdom  \n",
      "Wladimir Klitschko                                    Kazakhstan  \n",
      "Zach Randolph                                    Marion, Indiana  \n",
      "Zlatan Ibrahimović                                 Malmö, Sweden  \n",
      "Cristiano Ronaldo                     Funchal, Madeira, Portugal  \n",
      "\n",
      "[100 rows x 11 columns]\n"
     ]
    }
   ],
   "source": [
    "colunas = ['indice','Classificação','Desporto','Total_pago','Salario','Aprovações','Nacionalidade','Genero','Ano_Nascimento','Data_Nascimento','Local_Nascimento']\n",
    "df2.columns=colunas\n",
    "df2 = df2.rename(index={'Name':'Nome'})\n",
    "print(df2)"
   ]
  },
  {
   "attachments": {},
   "cell_type": "markdown",
   "metadata": {},
   "source": [
    "7. O ficheiro tem atletas de quantos desportos? Quais são esses desportos? Qual o desporto com \n",
    "mais atletas no ficheiro? \n"
   ]
  },
  {
   "cell_type": "code",
   "execution_count": 165,
   "metadata": {},
   "outputs": [
    {
     "name": "stdout",
     "output_type": "stream",
     "text": [
      "ha 10 desportos\n",
      "desportos -   {'Football': 17, 'Golf': 5, 'Baseball': 27, 'Basketball': 18, 'Boxing': 4, 'Racing': 6, 'Soccer': 15, 'Tennis': 6, 'Cricket': 1, 'Track': 1}\n",
      "Baseball é o desporto com mais atletas\n"
     ]
    }
   ],
   "source": [
    "print('ha',df2['Desporto'].nunique(),'desportos')\n",
    "dict = {}\n",
    "for sport in df2.Desporto:\n",
    "    if sport not in dict.keys():\n",
    "        dict[sport] =1\n",
    "    else:\n",
    "        dict[sport] +=1\n",
    "print('desportos -  ',dict)\n",
    "max_key = max(dict,key=dict.get)\n",
    "print(max_key,'é o desporto com mais atletas')\n",
    "#print(df2)"
   ]
  },
  {
   "attachments": {},
   "cell_type": "markdown",
   "metadata": {},
   "source": [
    "8. Ordene por país e mostre apenas o nome, desporto e país para os 7 primeiros. Esses 7 praticam \n",
    "que desportos? \n"
   ]
  },
  {
   "cell_type": "code",
   "execution_count": 166,
   "metadata": {},
   "outputs": [
    {
     "name": "stdout",
     "output_type": "stream",
     "text": [
      "                Desporto       Nacionalidade\n",
      "Name                                        \n",
      "Sergio Agüero     Soccer           Argentina\n",
      "Lionel Messi      Soccer           Argentina\n",
      "Adam Scott          Golf           Australia\n",
      "Neymar            Soccer              Brazil\n",
      "Li Na             Tennis               China\n",
      "Radamel Falcao    Soccer            Colombia\n",
      "Robinson Cano   Baseball  Dominican Republic\n",
      "Desportos que praticam sao ['Soccer', 'Golf', 'Tennis', 'Baseball']\n"
     ]
    }
   ],
   "source": [
    "df2 =df2.sort_values('Nacionalidade')\n",
    "df3 = df2.iloc[:7,2:7:4]\n",
    "print(df3)\n",
    "list = []\n",
    "for i in df3.Desporto:\n",
    "    if i not in list:\n",
    "        list.append(i)\n",
    "print( 'Desportos que praticam sao',list)"
   ]
  },
  {
   "attachments": {},
   "cell_type": "markdown",
   "metadata": {},
   "source": [
    "9. Que tipos de dados têm as colunas relacionadas com rendimentos? Converta-as para inteiros e \n",
    "determine os 3 atletas com maiores rendimentos. \n"
   ]
  },
  {
   "cell_type": "code",
   "execution_count": 169,
   "metadata": {},
   "outputs": [
    {
     "name": "stdout",
     "output_type": "stream",
     "text": [
      "indice                       int64\n",
      "Classificação                int64\n",
      "Desporto                    object\n",
      "Total_pago                   int32\n",
      "Salario                      int32\n",
      "Aprovações                   int32\n",
      "Nacionalidade               object\n",
      "Genero                      object\n",
      "Ano_Nascimento               int64\n",
      "Data_Nascimento     datetime64[ns]\n",
      "Local_Nascimento            object\n",
      "dtype: object\n",
      "Index(['Floyd Mayweather', 'Cristiano Ronaldo', 'LeBron James'], dtype='object', name='Name')\n"
     ]
    }
   ],
   "source": [
    "# total pago, salario e aprovações \n",
    "df2['Total_pago'] = (df2[\"Total_pago\"]\n",
    ".astype(int)\n",
    ")\n",
    "df2['Salario'] = (df2[\"Salario\"]\n",
    ".astype(int)\n",
    ")\n",
    "df2['Aprovações'] = (df2[\"Aprovações\"]\n",
    ".astype(int)\n",
    ")\n",
    "print(df2.dtypes)\n",
    "df4 = df2.nlargest(3,columns=['Total_pago','Salario','Aprovações'])\n",
    "print(df4.index)"
   ]
  },
  {
   "attachments": {},
   "cell_type": "markdown",
   "metadata": {},
   "source": [
    "10. Qual o rendimento médio global? E por género? E por desporto?"
   ]
  },
  {
   "cell_type": "code",
   "execution_count": 170,
   "metadata": {},
   "outputs": [
    {
     "name": "stdout",
     "output_type": "stream",
     "text": [
      "18342566.666666668\n"
     ]
    }
   ],
   "source": [
    "rendiemntoMedioGlobal = (df2['Total_pago'].mean() +df2['Salario'].mean() + df2['Aprovações'].mean())/3\n",
    "print(rendiemntoMedioGlobal)\n"
   ]
  },
  {
   "attachments": {},
   "cell_type": "markdown",
   "metadata": {},
   "source": [
    "11. Crie uma função que permita obter uma nova DataFrame com apenas os atletas com \n",
    "rendimento superior a um valor passado como parâmetro. A função deve devolver as linhas \n",
    "ordenadas por ondem decrescente de \"Total Pay\" e \"Salary/Winnings\". Utilize-a para obter \n",
    "tabelas para rendimentos superiores as 10 milhões, 30 e 70 milhões de dólares. Quantos atletas \n",
    "encontrou no último caso? "
   ]
  },
  {
   "cell_type": "code",
   "execution_count": null,
   "metadata": {},
   "outputs": [],
   "source": [
    "def func(df):\n",
    "    pass"
   ]
  }
 ],
 "metadata": {
  "kernelspec": {
   "display_name": "Python 3",
   "language": "python",
   "name": "python3"
  },
  "language_info": {
   "codemirror_mode": {
    "name": "ipython",
    "version": 3
   },
   "file_extension": ".py",
   "mimetype": "text/x-python",
   "name": "python",
   "nbconvert_exporter": "python",
   "pygments_lexer": "ipython3",
   "version": "3.11.2"
  },
  "orig_nbformat": 4
 },
 "nbformat": 4,
 "nbformat_minor": 2
}
