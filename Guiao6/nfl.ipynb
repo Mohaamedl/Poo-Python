{
 "cells": [
  {
   "attachments": {},
   "cell_type": "markdown",
   "metadata": {},
   "source": [
    "O ficheiro nfl.csv contém uma lista de jogadores na Liga Nacional de Futebol dos Estados Unidos \n",
    "(NFL), com as colunas: nome, equipa, posição, aniversário e salário. Responda às perguntas seguintes: \n",
    "1. Como podemos importar o ficheiro .csv NFL? Qual é uma forma eficaz de converter os valores \n",
    "na sua coluna de aniversário para o tipo data? \n"
   ]
  },
  {
   "cell_type": "code",
   "execution_count": 19,
   "metadata": {},
   "outputs": [],
   "source": [
    "import pandas as pd\n",
    "fileName = 'nfl.csv'\n"
   ]
  },
  {
   "cell_type": "code",
   "execution_count": 20,
   "metadata": {},
   "outputs": [
    {
     "name": "stdout",
     "output_type": "stream",
     "text": [
      "                    Name                  Team Position   Birthday   Salary\n",
      "0           Tremon Smith   Philadelphia Eagles       RB 1996-07-20   570000\n",
      "1         Shawn Williams    Cincinnati Bengals       SS 1991-05-13  3500000\n",
      "2            Adam Butler  New England Patriots       DT 1994-04-12   645000\n",
      "3            Derek Wolfe        Denver Broncos       DE 1990-02-24  8000000\n",
      "4              Jake Ryan  Jacksonville Jaguars      OLB 1992-02-27  1000000\n",
      "...                  ...                   ...      ...        ...      ...\n",
      "1650    Bashaud Breeland    Kansas City Chiefs       CB 1992-01-30   805000\n",
      "1651         Craig James   Philadelphia Eagles       CB 1996-04-29   570000\n",
      "1652  Jonotthan Harrison         New York Jets        C 1991-08-25  1500000\n",
      "1653         Chuma Edoga         New York Jets       OT 1997-05-25   495000\n",
      "1654        Tajae Sharpe      Tennessee Titans       WR 1994-12-23  2025000\n",
      "\n",
      "[1655 rows x 5 columns]\n"
     ]
    }
   ],
   "source": [
    "nfl = pd.read_csv(fileName,parse_dates=['Birthday'])\n",
    "print(nfl)"
   ]
  },
  {
   "attachments": {},
   "cell_type": "markdown",
   "metadata": {},
   "source": [
    "2. Quais são as duas formas de definir o índice DataFrame para armazenar os nomes dos \n",
    "jogadores?"
   ]
  },
  {
   "cell_type": "code",
   "execution_count": 21,
   "metadata": {},
   "outputs": [
    {
     "name": "stdout",
     "output_type": "stream",
     "text": [
      "                                    Team Position   Birthday   Salary\n",
      "Name                                                                 \n",
      "Tremon Smith         Philadelphia Eagles       RB 1996-07-20   570000\n",
      "Shawn Williams        Cincinnati Bengals       SS 1991-05-13  3500000\n",
      "Adam Butler         New England Patriots       DT 1994-04-12   645000\n",
      "Derek Wolfe               Denver Broncos       DE 1990-02-24  8000000\n",
      "Jake Ryan           Jacksonville Jaguars      OLB 1992-02-27  1000000\n",
      "...                                  ...      ...        ...      ...\n",
      "Bashaud Breeland      Kansas City Chiefs       CB 1992-01-30   805000\n",
      "Craig James          Philadelphia Eagles       CB 1996-04-29   570000\n",
      "Jonotthan Harrison         New York Jets        C 1991-08-25  1500000\n",
      "Chuma Edoga                New York Jets       OT 1997-05-25   495000\n",
      "Tajae Sharpe            Tennessee Titans       WR 1994-12-23  2025000\n",
      "\n",
      "[1655 rows x 4 columns]\n"
     ]
    }
   ],
   "source": [
    "nfl = nfl.set_index(keys = 'Name')\n",
    "# or \n",
    "#nfl = nfl.set_index('Name')\n",
    "# or \n",
    "#nfl = pd.read_csv(fileName,index_col='Name')\n",
    "print(nfl)"
   ]
  },
  {
   "attachments": {},
   "cell_type": "markdown",
   "metadata": {},
   "source": [
    "3. Como podemos contar o número de jogadores por equipa neste conjunto de dados? "
   ]
  },
  {
   "cell_type": "code",
   "execution_count": 23,
   "metadata": {},
   "outputs": [
    {
     "name": "stdout",
     "output_type": "stream",
     "text": [
      "{'Philadelphia Eagles': 52, 'Cincinnati Bengals': 51, 'New England Patriots': 49, 'Denver Broncos': 54, 'Jacksonville Jaguars': 50, 'Dallas Cowboys': 53, 'Miami Dolphins': 49, 'Buffalo Bills': 53, 'Atlanta Falcons': 53, 'Cleveland Browns': 49, 'Minnesota Vikings': 54, 'Tampa Bay Buccaneers': 47, 'Los Angeles Chargers': 54, 'Washington Redskins': 56, 'Tennessee Titans': 46, 'Chicago Bears': 53, 'Houston Texans': 52, 'Arizona Cardinals': 51, 'Baltimore Ravens': 48, 'New Orleans Saints': 55, 'Detroit Lions': 53, 'Pittsburgh Steelers': 47, 'San Francisco 49Ers': 55, 'New York Giants': 52, 'New York Jets': 58, 'Green Bay Packers': 51, 'Seattle Seahawks': 53, 'Indianapolis Colts': 49, 'Carolina Panthers': 49, 'Oakland Raiders': 51, 'Los Angeles Rams': 52, 'Kansas City Chiefs': 56}\n"
     ]
    }
   ],
   "source": [
    "nPlayers = {} # dicionario para guardar o nome de equipa e numero de jogaores , chave e valor respectivamente\n",
    "for team in nfl.Team:\n",
    "    if team not in nPlayers.keys():\n",
    "        nPlayers[team] = 1\n",
    "    else:\n",
    "        nPlayers[team] +=1\n",
    "print(nPlayers)"
   ]
  },
  {
   "attachments": {},
   "cell_type": "markdown",
   "metadata": {},
   "source": [
    "4. Quem são os cinco jogadores mais bem pagos? "
   ]
  },
  {
   "cell_type": "code",
   "execution_count": 28,
   "metadata": {},
   "outputs": [
    {
     "name": "stdout",
     "output_type": "stream",
     "text": [
      "Os 5 mais pagos: \n",
      " Name\n",
      "Kirk Cousins       27500000\n",
      "Marcus Mariota     20922000\n",
      "Jameis Winston     20922000\n",
      "Derek Carr         19900000\n",
      "Jimmy Garoppolo    17200000\n",
      "Name: Salary, dtype: int64\n"
     ]
    }
   ],
   "source": [
    "quantos = 5\n",
    "maisPagos = nfl.Salary.nlargest(quantos)\n",
    "print('Os',quantos,'mais pagos: \\n',maisPagos)"
   ]
  },
  {
   "attachments": {},
   "cell_type": "markdown",
   "metadata": {},
   "source": [
    "5. Como podemos ordenar os dados primeiro por equipas por ordem alfabética e depois por \n",
    "salário em ordem descendente? \n"
   ]
  },
  {
   "cell_type": "code",
   "execution_count": 31,
   "metadata": {},
   "outputs": [
    {
     "name": "stdout",
     "output_type": "stream",
     "text": [
      "                                   Team Position   Birthday    Salary\n",
      "Name                                                                 \n",
      "Chandler Jones        Arizona Cardinals      OLB 1990-02-27  16500000\n",
      "Patrick Peterson      Arizona Cardinals       CB 1990-07-11  11000000\n",
      "Larry Fitzgerald      Arizona Cardinals       WR 1983-08-31  11000000\n",
      "David Johnson         Arizona Cardinals       RB 1991-12-16   5700000\n",
      "Justin Pugh           Arizona Cardinals        G 1990-08-15   5000000\n",
      "...                                 ...      ...        ...       ...\n",
      "Ross Pierschbacher  Washington Redskins        C 1995-05-05    495000\n",
      "Kelvin Harmon       Washington Redskins       WR 1996-12-15    495000\n",
      "Wes Martin          Washington Redskins        G 1996-05-09    495000\n",
      "Jimmy Moreland      Washington Redskins       CB 1995-08-26    495000\n",
      "Jeremy Reaves       Washington Redskins       SS 1996-08-29    495000\n",
      "\n",
      "[1655 rows x 4 columns]\n"
     ]
    }
   ],
   "source": [
    "nfl = nfl.sort_values(by=['Team','Salary'], ascending=[True,False])\n",
    "print(nfl)"
   ]
  },
  {
   "attachments": {},
   "cell_type": "markdown",
   "metadata": {},
   "source": [
    "6. Quem é o jogador mais velho da lista dos New York Jets, e qual o dia do seu aniversário?"
   ]
  },
  {
   "cell_type": "code",
   "execution_count": 83,
   "metadata": {},
   "outputs": [
    {
     "name": "stdout",
     "output_type": "stream",
     "text": [
      "Ryan Kalil , dia de nascimento 29\n"
     ]
    }
   ],
   "source": [
    "nfl2 = nfl[nfl['Team']=='New York Jets'].sort_values(by='Birthday',ascending=True)\n",
    "player = nfl2.index[0]\n",
    "day = nfl2.head(1)['Birthday'].to_string()[26:28]\n",
    "print(player,', dia de nascimento',day)"
   ]
  }
 ],
 "metadata": {
  "kernelspec": {
   "display_name": "Python 3",
   "language": "python",
   "name": "python3"
  },
  "language_info": {
   "codemirror_mode": {
    "name": "ipython",
    "version": 3
   },
   "file_extension": ".py",
   "mimetype": "text/x-python",
   "name": "python",
   "nbconvert_exporter": "python",
   "pygments_lexer": "ipython3",
   "version": "3.11.2"
  },
  "orig_nbformat": 4
 },
 "nbformat": 4,
 "nbformat_minor": 2
}
